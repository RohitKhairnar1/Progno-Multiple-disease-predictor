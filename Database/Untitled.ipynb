{
 "cells": [
  {
   "cell_type": "code",
   "execution_count": 8,
   "id": "cdcd12e1",
   "metadata": {},
   "outputs": [
    {
     "name": "stdout",
     "output_type": "stream",
     "text": [
      "      age    bp     sg   al   su     rbc        pc         pcc          ba  \\\n",
      "0    48.0  80.0  1.020  1.0  0.0     NaN    normal  notpresent  notpresent   \n",
      "1     7.0  50.0  1.020  4.0  0.0     NaN    normal  notpresent  notpresent   \n",
      "2    62.0  80.0  1.010  2.0  3.0  normal    normal  notpresent  notpresent   \n",
      "3    48.0  70.0  1.005  4.0  0.0  normal  abnormal     present  notpresent   \n",
      "4    51.0  80.0  1.010  2.0  0.0  normal    normal  notpresent  notpresent   \n",
      "..    ...   ...    ...  ...  ...     ...       ...         ...         ...   \n",
      "395  55.0  80.0  1.020  0.0  0.0  normal    normal  notpresent  notpresent   \n",
      "396  42.0  70.0  1.025  0.0  0.0  normal    normal  notpresent  notpresent   \n",
      "397  12.0  80.0  1.020  0.0  0.0  normal    normal  notpresent  notpresent   \n",
      "398  17.0  60.0  1.025  0.0  0.0  normal    normal  notpresent  notpresent   \n",
      "399  58.0  80.0  1.025  0.0  0.0  normal    normal  notpresent  notpresent   \n",
      "\n",
      "            bgr  ...  pcv    wc   rc  htn   dm cad appet   pe  ane  \\\n",
      "0    121.000000  ...   44  7800  5.2  yes  yes  no  good   no   no   \n",
      "1    148.036517  ...   38  6000  NaN   no   no  no  good   no   no   \n",
      "2    423.000000  ...   31  7500  NaN   no  yes  no  poor   no  yes   \n",
      "3    117.000000  ...   32  6700  3.9  yes   no  no  poor  yes  yes   \n",
      "4    106.000000  ...   35  7300  4.6   no   no  no  good   no   no   \n",
      "..          ...  ...  ...   ...  ...  ...  ...  ..   ...  ...  ...   \n",
      "395  140.000000  ...   47  6700  4.9   no   no  no  good   no   no   \n",
      "396   75.000000  ...   54  7800  6.2   no   no  no  good   no   no   \n",
      "397  100.000000  ...   49  6600  5.4   no   no  no  good   no   no   \n",
      "398  114.000000  ...   51  7200  5.9   no   no  no  good   no   no   \n",
      "399  131.000000  ...   53  6800  6.1   no   no  no  good   no   no   \n",
      "\n",
      "    classification  \n",
      "0              ckd  \n",
      "1              ckd  \n",
      "2              ckd  \n",
      "3              ckd  \n",
      "4              ckd  \n",
      "..             ...  \n",
      "395         notckd  \n",
      "396         notckd  \n",
      "397         notckd  \n",
      "398         notckd  \n",
      "399         notckd  \n",
      "\n",
      "[400 rows x 25 columns]\n"
     ]
    },
    {
     "name": "stderr",
     "output_type": "stream",
     "text": [
      "C:\\Users\\91960\\AppData\\Local\\Temp/ipykernel_24412/2126990704.py:7: FutureWarning: Dropping of nuisance columns in DataFrame reductions (with 'numeric_only=None') is deprecated; in a future version this will raise TypeError.  Select only valid columns before calling the reduction.\n",
      "  df.fillna(df.mean(), inplace=True)\n"
     ]
    }
   ],
   "source": [
    "import pandas as pd\n",
    "\n",
    "# Read the CSV file\n",
    "df = pd.read_csv('kidney1.csv')\n",
    "\n",
    "# Replace missing values with the mean of the columns\n",
    "df.fillna(df.mean(), inplace=True)\n",
    "\n",
    "# Print the dataframe to show the changes\n",
    "print(df)\n"
   ]
  },
  {
   "cell_type": "code",
   "execution_count": null,
   "id": "b9435c8f",
   "metadata": {},
   "outputs": [],
   "source": []
  }
 ],
 "metadata": {
  "kernelspec": {
   "display_name": "Python 3 (ipykernel)",
   "language": "python",
   "name": "python3"
  },
  "language_info": {
   "codemirror_mode": {
    "name": "ipython",
    "version": 3
   },
   "file_extension": ".py",
   "mimetype": "text/x-python",
   "name": "python",
   "nbconvert_exporter": "python",
   "pygments_lexer": "ipython3",
   "version": "3.9.7"
  }
 },
 "nbformat": 4,
 "nbformat_minor": 5
}
